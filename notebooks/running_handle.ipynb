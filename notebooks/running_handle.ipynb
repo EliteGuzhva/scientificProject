{
 "cells": [
  {
   "cell_type": "code",
   "execution_count": 1,
   "metadata": {
    "collapsed": true
   },
   "outputs": [],
   "source": [
    "import os\n",
    "import yaml\n",
    "try:\n",
    "    from yaml.cyaml import CLoader as Loader\n",
    "except ImportError:\n",
    "    from yaml.loader import Loader"
   ]
  },
  {
   "cell_type": "code",
   "execution_count": 2,
   "metadata": {
    "collapsed": false
   },
   "outputs": [],
   "source": [
    "dir = \"/Users/elit3guzhva/work/testdata/get/inp/get.163/get.163.001.info.yml\""
   ]
  },
  {
   "cell_type": "code",
   "execution_count": 3,
   "metadata": {
    "collapsed": false
   },
   "outputs": [
    {
     "name": "stdout",
     "output_type": "stream",
     "text": [
      "Msec = 16300; Speed = 9.738481873111782; Handle = 11\n",
      "Msec = 16450; Speed = 10.304947129909365; Handle = 11\n",
      "Msec = 16599; Speed = 11.116880664652568; Handle = 11\n",
      "Msec = 16754; Speed = 11.735271903323262; Handle = 11\n",
      "Msec = 16911; Speed = 12.183723564954683; Handle = 11\n",
      "Msec = 17054; Speed = 12.537764350453172; Handle = 11\n",
      "Msec = 17205; Speed = 13.632930513595166; Handle = 11\n",
      "Msec = 17356; Speed = 14.010574018126889; Handle = 11\n",
      "Msec = 17655; Speed = 14.992447129909365; Handle = 11\n",
      "Msec = 17806; Speed = 15.431457703927492; Handle = 11\n",
      "Msec = 17956; Speed = 15.964879154078549; Handle = 11\n",
      "Msec = 18106; Speed = 16.838179758308158; Handle = 11\n",
      "Msec = 18407; Speed = 17.923904833836858; Handle = 11\n",
      "Msec = 18706; Speed = 18.44788519637462; Handle = 11\n",
      "Msec = 18856; Speed = 19.297583081571; Handle = 11\n",
      "Msec = 19007; Speed = 20.076472809667674; Handle = 11\n",
      "Msec = 19307; Speed = 21.067787009063444; Handle = 11\n",
      "Msec = 19458; Speed = 21.431268882175225; Handle = 11\n",
      "Msec = 19759; Speed = 22.361216012084594; Handle = 11\n",
      "Msec = 19909; Speed = 23.107061933534744; Handle = 11\n",
      "Msec = 20211; Speed = 23.9142749244713; Handle = 11\n",
      "Msec = 20363; Speed = 24.169184290030213; Handle = 11\n",
      "Msec = 20661; Speed = 25.12273413897281; Handle = 11\n",
      "Msec = 20811; Speed = 25.372922960725074; Handle = 11\n",
      "Msec = 20961; Speed = 25.84025679758308; Handle = 11\n",
      "Msec = 21112; Speed = 26.604984894259818; Handle = 11\n",
      "Msec = 21262; Speed = 26.869335347432024; Handle = 11\n",
      "Msec = 21563; Speed = 27.60574018126888; Handle = 11\n",
      "Msec = 21713; Speed = 27.82760574018127; Handle = 11\n",
      "Msec = 21863; Speed = 28.318542296072508; Handle = 11\n",
      "Msec = 22013; Speed = 28.766993957703928; Handle = 11\n",
      "Msec = 22164; Speed = 29.14463746223565; Handle = 11\n",
      "Msec = 22314; Speed = 29.824395770392748; Handle = 11\n",
      "Msec = 22614; Speed = 30.18787764350453; Handle = 11\n",
      "Msec = 22764; Speed = 30.905400302114803; Handle = 11\n",
      "Msec = 22914; Speed = 31.30192598187311; Handle = 11\n",
      "Msec = 23071; Speed = 31.707892749244714; Handle = 11\n",
      "Msec = 23215; Speed = 31.863670694864048; Handle = 11\n",
      "Msec = 23365; Speed = 32.189388217522655; Handle = 10\n",
      "Msec = 23514; Speed = 32.86442598187311; Handle = 9\n",
      "Msec = 23665; Speed = 33.086291540785496; Handle = 4\n",
      "Msec = 23966; Speed = 33.39312688821752; Handle = 0\n",
      "Msec = 24266; Speed = 33.4308912386707; Handle = 0\n",
      "Msec = 24416; Speed = 33.44977341389728; Handle = -3\n",
      "Msec = 24566; Speed = 33.35536253776435; Handle = -4\n",
      "Msec = 24717; Speed = 33.33648036253776; Handle = -4\n",
      "Msec = 24867; Speed = 33.12405589123867; Handle = -4\n",
      "Msec = 25167; Speed = 32.836102719033235; Handle = -4\n",
      "Msec = 25317; Speed = 32.482061933534744; Handle = -4\n",
      "Msec = 25618; Speed = 31.962802114803626; Handle = 0\n",
      "Msec = 25767; Speed = 31.825906344410875; Handle = 0\n",
      "Msec = 25918; Speed = 31.759818731117825; Handle = 0\n",
      "Msec = 26218; Speed = 31.76453927492447; Handle = 0\n"
     ]
    }
   ],
   "source": [
    "filename = dir\n",
    "\n",
    "with open(filename, 'r') as f:\n",
    "    f.readline()\n",
    "    data: dict = yaml.load(f, yaml.loader.Loader)\n",
    "\n",
    "for shot in data['shots']:\n",
    "    if 'dbwFbTram' not in shot.keys():\n",
    "        continue\n",
    "\n",
    "    timestamp = None\n",
    "    run_pos = None\n",
    "    speed = None\n",
    "\n",
    "    dbw = shot['dbwFbTram']\n",
    "    for key, value in dbw.items():\n",
    "        if 'grabMsec' in key:\n",
    "            timestamp = key.split(':')[1]\n",
    "            break\n",
    "\n",
    "    fb = dbw['dbw_tram_feedback_data']\n",
    "    for key, value in fb.items():\n",
    "        if 'm_speed_mode_driver' in key:\n",
    "            run_pos = key.split(':')[1]\n",
    "\n",
    "        if 'm_speeds_values' in key:\n",
    "            speed = value[0]\n",
    "\n",
    "    print(f\"Msec = {timestamp}; Speed = {speed}; Handle = {run_pos}\")\n"
   ]
  },
  {
   "cell_type": "code",
   "execution_count": null,
   "metadata": {
    "collapsed": false
   },
   "outputs": [],
   "source": []
  }
 ],
 "metadata": {
  "kernelspec": {
   "display_name": "Python 3.9.6 ('venv': venv)",
   "language": "python",
   "name": "python3"
  },
  "language_info": {
   "codemirror_mode": {
    "name": "ipython",
    "version": 3
   },
   "file_extension": ".py",
   "mimetype": "text/x-python",
   "name": "python",
   "nbconvert_exporter": "python",
   "pygments_lexer": "ipython3",
   "version": "3.9.6"
  },
  "vscode": {
   "interpreter": {
    "hash": "be36b1d65690be06c7d5f513de94739b03a6e8fb833d930445f32efe624b0e75"
   }
  }
 },
 "nbformat": 4,
 "nbformat_minor": 0
}
