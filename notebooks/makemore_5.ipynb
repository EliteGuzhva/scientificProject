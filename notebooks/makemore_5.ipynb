{
 "cells": [
  {
   "cell_type": "code",
   "execution_count": 61,
   "metadata": {
    "collapsed": true
   },
   "outputs": [],
   "source": [
    "import random\n",
    "from tqdm import tqdm\n",
    "import torch\n",
    "import torch.nn.functional as F\n",
    "import matplotlib.pyplot as plt\n",
    "%matplotlib inline"
   ]
  },
  {
   "cell_type": "code",
   "execution_count": 62,
   "outputs": [],
   "source": [
    "words = open('../data/names.txt', 'r').read().splitlines()"
   ],
   "metadata": {
    "collapsed": false
   }
  },
  {
   "cell_type": "code",
   "execution_count": 63,
   "outputs": [
    {
     "data": {
      "text/plain": "{1: 'a',\n 2: 'b',\n 3: 'c',\n 4: 'd',\n 5: 'e',\n 6: 'f',\n 7: 'g',\n 8: 'h',\n 9: 'i',\n 10: 'j',\n 11: 'k',\n 12: 'l',\n 13: 'm',\n 14: 'n',\n 15: 'o',\n 16: 'p',\n 17: 'q',\n 18: 'r',\n 19: 's',\n 20: 't',\n 21: 'u',\n 22: 'v',\n 23: 'w',\n 24: 'x',\n 25: 'y',\n 26: 'z',\n 0: '.'}"
     },
     "execution_count": 63,
     "metadata": {},
     "output_type": "execute_result"
    }
   ],
   "source": [
    "# vocabulary\n",
    "chars = sorted(list(set(''.join(words))))\n",
    "stoi = {s: i + 1 for i, s in enumerate(chars)}\n",
    "stoi['.'] = 0\n",
    "itos = {i: s for s, i in stoi.items()}\n",
    "itos"
   ],
   "metadata": {
    "collapsed": false
   }
  },
  {
   "cell_type": "code",
   "execution_count": 64,
   "outputs": [],
   "source": [
    "# dataset\n",
    "block_size = 8\n",
    "\n",
    "\n",
    "def build_dataset(words):\n",
    "    X, Y = [], []\n",
    "    for w in words:\n",
    "        context = [0] * block_size\n",
    "        for ch in w + '.':\n",
    "            ix = stoi[ch]\n",
    "            X.append(context)\n",
    "            Y.append(ix)\n",
    "            context = context[1:] + [ix]\n",
    "\n",
    "    X = torch.tensor(X)\n",
    "    Y = torch.tensor(Y)\n",
    "\n",
    "    return X, Y\n",
    "\n",
    "\n",
    "random.seed(42)\n",
    "random.shuffle(words)\n",
    "n1 = int(0.8 * len(words))\n",
    "n2 = int(0.9 * len(words))\n",
    "\n",
    "X_train, Y_train = build_dataset(words[:n1])\n",
    "X_val, Y_val = build_dataset(words[n1:n2])\n",
    "X_test, Y_test = build_dataset(words[n2:])"
   ],
   "metadata": {
    "collapsed": false
   }
  },
  {
   "cell_type": "code",
   "execution_count": 94,
   "outputs": [],
   "source": [
    "class Linear:\n",
    "    def __init__(self, fan_in, fan_out, bias=True):\n",
    "        self.weight = torch.randn((fan_in, fan_out)) / fan_in ** 0.5\n",
    "        self.bias = torch.zeros(fan_out) if bias else None\n",
    "\n",
    "    def __call__(self, x):\n",
    "        self.out = x @ self.weight\n",
    "        if self.bias is not None:\n",
    "            self.out += self.bias\n",
    "\n",
    "        return self.out\n",
    "\n",
    "    def parameters(self):\n",
    "        return [self.weight] + ([] if self.bias is None else [self.bias])\n",
    "\n",
    "\n",
    "class BatchNorm1d:\n",
    "    def __init__(self, dim, eps=1e-5, momentum=0.1):\n",
    "        self.eps = eps\n",
    "        self.momentum = momentum\n",
    "        self.training = True\n",
    "\n",
    "        self.gamma = torch.ones(dim)\n",
    "        self.beta = torch.zeros(dim)\n",
    "\n",
    "        self.running_mean = torch.zeros(dim)\n",
    "        self.running_var = torch.ones(dim)\n",
    "\n",
    "    def __call__(self, x):\n",
    "        if self.training:\n",
    "            dim = 0\n",
    "            if x.ndim == 2:\n",
    "                dim = 0\n",
    "            elif x.ndim == 3:\n",
    "                dim = (0, 1)\n",
    "            xmean = x.mean(dim, keepdim=True)\n",
    "            xvar = x.var(dim, keepdim=True)\n",
    "        else:\n",
    "            xmean = self.running_mean\n",
    "            xvar = self.running_var\n",
    "\n",
    "        xhat = (x - xmean) / torch.sqrt(xvar + self.eps)\n",
    "        self.out = self.gamma * xhat + self.beta\n",
    "\n",
    "        if self.training:\n",
    "            with torch.no_grad():\n",
    "                self.running_mean = (1 - self.momentum) * self.running_mean + self.momentum * xmean\n",
    "                self.running_var = (1 - self.momentum) * self.running_var + self.momentum * xvar\n",
    "\n",
    "        return self.out\n",
    "\n",
    "    def parameters(self):\n",
    "        return [self.gamma, self.beta]\n",
    "\n",
    "\n",
    "class Tanh:\n",
    "    def __call__(self, x):\n",
    "        self.out = torch.tanh(x)\n",
    "\n",
    "        return self.out\n",
    "\n",
    "    def parameters(self):\n",
    "        return []\n",
    "\n",
    "\n",
    "class Embedding:\n",
    "    def __init__(self, input_size, emb_size):\n",
    "        self.C = torch.randn((input_size, emb_size))\n",
    "\n",
    "    def __call__(self, x):\n",
    "        self.out = self.C[x]\n",
    "\n",
    "        return self.out\n",
    "\n",
    "    def parameters(self):\n",
    "        return [self.C]\n",
    "\n",
    "\n",
    "class Flatten:\n",
    "    def __init__(self, n):\n",
    "        self.n = n\n",
    "\n",
    "    def __call__(self, x):\n",
    "        self.out = x.view(x.shape[0], -1, x.shape[2] * self.n)\n",
    "        if self.out.shape[1] == 1:\n",
    "            self.out = self.out.squeeze(1)\n",
    "\n",
    "        return self.out\n",
    "\n",
    "    def parameters(self):\n",
    "        return []\n",
    "\n",
    "\n",
    "class Sequential:\n",
    "    def __init__(self, layers):\n",
    "        self.layers = layers\n",
    "\n",
    "    def __call__(self, x):\n",
    "        for layer in self.layers:\n",
    "            x = layer(x)\n",
    "        self.out = x\n",
    "\n",
    "        return x\n",
    "\n",
    "    def parameters(self):\n",
    "        return [p for layer in self.layers for p in layer.parameters()]"
   ],
   "metadata": {
    "collapsed": false
   }
  },
  {
   "cell_type": "code",
   "execution_count": 95,
   "outputs": [
    {
     "data": {
      "text/plain": "<torch._C.Generator at 0x107bcf270>"
     },
     "execution_count": 95,
     "metadata": {},
     "output_type": "execute_result"
    }
   ],
   "source": [
    "torch.manual_seed(42)"
   ],
   "metadata": {
    "collapsed": false
   }
  },
  {
   "cell_type": "code",
   "execution_count": 105,
   "outputs": [],
   "source": [
    "class WaveNet:\n",
    "    def __init__(self, vocab_size, emb_size, hidden_size):\n",
    "        self.model = Sequential([\n",
    "            Embedding(vocab_size, emb_size),\n",
    "            Flatten(2),\n",
    "            Linear(emb_size * 2, hidden_size, bias=False),\n",
    "            BatchNorm1d(hidden_size, momentum=0.001),\n",
    "            Tanh(),\n",
    "            Flatten(2),\n",
    "            Linear(hidden_size * 2, hidden_size, bias=False),\n",
    "            BatchNorm1d(hidden_size, momentum=0.001),\n",
    "            Tanh(),\n",
    "            Flatten(2),\n",
    "            Linear(hidden_size * 2, hidden_size, bias=False),\n",
    "            BatchNorm1d(hidden_size, momentum=0.001),\n",
    "            Tanh(),\n",
    "            Linear(hidden_size, vocab_size),\n",
    "        ])\n",
    "\n",
    "    def __call__(self, x):\n",
    "        self.out = self.model(x)\n",
    "\n",
    "        return self.out\n",
    "\n",
    "    def parameters(self):\n",
    "        return self.model.parameters()\n",
    "\n",
    "    def train(self):\n",
    "        self.model.layers[3].training = True\n",
    "        self.model.layers[7].training = True\n",
    "        self.model.layers[11].training = True\n",
    "\n",
    "    def eval(self):\n",
    "        self.model.layers[3].training = False\n",
    "        self.model.layers[7].training = False\n",
    "        self.model.layers[11].training = False\n"
   ],
   "metadata": {
    "collapsed": false
   }
  },
  {
   "cell_type": "code",
   "execution_count": 106,
   "outputs": [
    {
     "name": "stdout",
     "output_type": "stream",
     "text": [
      "76579\n"
     ]
    }
   ],
   "source": [
    "model = WaveNet(len(stoi), 24, 128)\n",
    "for p in model.parameters():\n",
    "    p.requires_grad = True\n",
    "print(sum(p.nelement() for p in model.parameters()))"
   ],
   "metadata": {
    "collapsed": false
   }
  },
  {
   "cell_type": "code",
   "execution_count": 98,
   "outputs": [
    {
     "ename": "AttributeError",
     "evalue": "'Embedding' object has no attribute 'out'",
     "output_type": "error",
     "traceback": [
      "\u001B[0;31m---------------------------------------------------------------------------\u001B[0m",
      "\u001B[0;31mAttributeError\u001B[0m                            Traceback (most recent call last)",
      "Cell \u001B[0;32mIn [98], line 2\u001B[0m\n\u001B[1;32m      1\u001B[0m \u001B[38;5;28;01mfor\u001B[39;00m layer \u001B[38;5;129;01min\u001B[39;00m model\u001B[38;5;241m.\u001B[39mmodel\u001B[38;5;241m.\u001B[39mlayers:\n\u001B[0;32m----> 2\u001B[0m     \u001B[38;5;28mprint\u001B[39m(layer\u001B[38;5;241m.\u001B[39m\u001B[38;5;18m__class__\u001B[39m\u001B[38;5;241m.\u001B[39m\u001B[38;5;18m__name__\u001B[39m, \u001B[38;5;124m\"\u001B[39m\u001B[38;5;124m:\u001B[39m\u001B[38;5;124m\"\u001B[39m, \u001B[38;5;28mtuple\u001B[39m(\u001B[43mlayer\u001B[49m\u001B[38;5;241;43m.\u001B[39;49m\u001B[43mout\u001B[49m\u001B[38;5;241m.\u001B[39mshape))\n",
      "\u001B[0;31mAttributeError\u001B[0m: 'Embedding' object has no attribute 'out'"
     ]
    }
   ],
   "source": [
    "for layer in model.model.layers:\n",
    "    print(layer.__class__.__name__, \":\", tuple(layer.out.shape))"
   ],
   "metadata": {
    "collapsed": false
   }
  },
  {
   "cell_type": "code",
   "execution_count": 107,
   "outputs": [
    {
     "name": "stdout",
     "output_type": "stream",
     "text": [
      "Epoch 10000/300000: loss=2.4626\n",
      "Epoch 20000/300000: loss=1.8382\n",
      "Epoch 30000/300000: loss=1.8789\n",
      "Epoch 40000/300000: loss=2.2086\n",
      "Epoch 50000/300000: loss=2.0569\n",
      "Epoch 60000/300000: loss=1.4002\n",
      "Epoch 70000/300000: loss=1.5364\n",
      "Epoch 80000/300000: loss=1.9172\n",
      "Epoch 90000/300000: loss=1.8244\n",
      "Epoch 100000/300000: loss=2.4498\n",
      "Epoch 110000/300000: loss=1.9773\n",
      "Epoch 120000/300000: loss=1.7523\n",
      "Epoch 130000/300000: loss=2.2882\n",
      "Epoch 140000/300000: loss=1.8700\n",
      "Epoch 150000/300000: loss=1.7824\n",
      "Epoch 160000/300000: loss=1.6988\n",
      "Epoch 170000/300000: loss=1.8541\n",
      "Epoch 180000/300000: loss=1.9929\n",
      "Epoch 190000/300000: loss=1.7820\n",
      "Epoch 200000/300000: loss=1.6353\n",
      "Epoch 210000/300000: loss=1.3497\n",
      "Epoch 220000/300000: loss=1.8920\n",
      "Epoch 230000/300000: loss=1.6939\n",
      "Epoch 240000/300000: loss=1.7575\n",
      "Epoch 250000/300000: loss=1.6381\n",
      "Epoch 260000/300000: loss=1.5577\n",
      "Epoch 270000/300000: loss=1.8223\n",
      "Epoch 280000/300000: loss=1.8518\n",
      "Epoch 290000/300000: loss=1.5323\n",
      "Epoch 300000/300000: loss=1.6832\n"
     ]
    }
   ],
   "source": [
    "# Training\n",
    "max_steps = int(3e5)\n",
    "batch_size = 32\n",
    "lossi = []\n",
    "for i in range(max_steps):\n",
    "    # Minibatch\n",
    "    ix = torch.randint(0, X_train.shape[0], (batch_size,))\n",
    "    X_batch, Y_batch = X_train[ix], Y_train[ix]\n",
    "\n",
    "    # Forward pass\n",
    "    x = model(X_batch)\n",
    "\n",
    "    # Loss\n",
    "    loss = F.cross_entropy(x, Y_batch)\n",
    "\n",
    "    # Backward pass\n",
    "    for p in model.parameters():\n",
    "        p.grad = None\n",
    "    loss.backward()\n",
    "\n",
    "    # Update\n",
    "    lr = 1e-1 if i < 2e5 else 1e-2\n",
    "    for p in model.parameters():\n",
    "        p.data += -lr * p.grad\n",
    "\n",
    "    # Track stats\n",
    "    if (i + 1) % 1e4 == 0:\n",
    "        print(f\"Epoch {i + 1}/{max_steps}: loss={loss.item():.4f}\")\n",
    "    lossi.append(loss.log10().item())\n"
   ],
   "metadata": {
    "collapsed": false
   }
  },
  {
   "cell_type": "code",
   "execution_count": 108,
   "outputs": [
    {
     "data": {
      "text/plain": "[<matplotlib.lines.Line2D at 0x135eed490>]"
     },
     "execution_count": 108,
     "metadata": {},
     "output_type": "execute_result"
    },
    {
     "data": {
      "text/plain": "<Figure size 640x480 with 1 Axes>",
      "image/png": "[encoded data removed]"
     },
     "metadata": {},
     "output_type": "display_data"
    }
   ],
   "source": [
    "plt.plot(torch.tensor(lossi).view(-1, 1000).mean(1))"
   ],
   "metadata": {
    "collapsed": false
   }
  },
  {
   "cell_type": "code",
   "execution_count": 109,
   "outputs": [
    {
     "name": "stdout",
     "output_type": "stream",
     "text": [
      "train: 1.7340906858444214\n",
      "val: 1.9950929880142212\n"
     ]
    }
   ],
   "source": [
    "@torch.no_grad()\n",
    "def split_loss(split):\n",
    "    x, y = {\n",
    "        'train': (X_train, Y_train),\n",
    "        'val': (X_val, Y_val),\n",
    "        'test': (X_test, Y_test),\n",
    "    }[split]\n",
    "\n",
    "    logits = model(x)\n",
    "    loss = F.cross_entropy(logits, y)\n",
    "\n",
    "    print(f\"{split}: {loss.item()}\")\n",
    "\n",
    "\n",
    "split_loss('train')\n",
    "split_loss('val')"
   ],
   "metadata": {
    "collapsed": false
   }
  },
  {
   "cell_type": "code",
   "execution_count": 110,
   "outputs": [
    {
     "name": "stdout",
     "output_type": "stream",
     "text": [
      "issiana\n",
      "rahmara\n",
      "mcbya\n",
      "zeely\n",
      "aadlyn\n",
      "kalond\n",
      "nyara\n",
      "huber\n",
      "briott\n",
      "emmara\n"
     ]
    }
   ],
   "source": [
    "# Sample from the model\n",
    "with torch.no_grad():\n",
    "    model.eval()\n",
    "    for _ in range(10):\n",
    "        out = []\n",
    "        context = [0] * block_size\n",
    "        while True:\n",
    "            x = torch.tensor([context])\n",
    "            logits = model(x)\n",
    "            probs = F.softmax(logits, dim=1)\n",
    "\n",
    "            ix = torch.multinomial(probs, num_samples=1).item()\n",
    "            context = context[1:] + [ix]\n",
    "            out.append(ix)\n",
    "            if ix == 0:\n",
    "                break\n",
    "\n",
    "        print(''.join(itos[i] for i in out[:-1]))\n",
    "\n",
    "    model.train()"
   ],
   "metadata": {
    "collapsed": false
   }
  },
  {
   "cell_type": "code",
   "execution_count": null,
   "outputs": [],
   "source": [],
   "metadata": {
    "collapsed": false
   }
  }
 ],
 "metadata": {
  "kernelspec": {
   "display_name": "Python 3",
   "language": "python",
   "name": "python3"
  },
  "language_info": {
   "codemirror_mode": {
    "name": "ipython",
    "version": 2
   },
   "file_extension": ".py",
   "mimetype": "text/x-python",
   "name": "python",
   "nbconvert_exporter": "python",
   "pygments_lexer": "ipython2",
   "version": "2.7.6"
  }
 },
 "nbformat": 4,
 "nbformat_minor": 0
}
